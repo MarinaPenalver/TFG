{
 "cells": [
  {
   "cell_type": "markdown",
   "id": "d4548c02",
   "metadata": {},
   "source": [
    "**Paquete `holidays`**"
   ]
  },
  {
   "cell_type": "code",
   "execution_count": 1,
   "id": "49b5214c",
   "metadata": {},
   "outputs": [],
   "source": [
    "from datetime import date\n",
    "import holidays"
   ]
  },
  {
   "cell_type": "code",
   "execution_count": 2,
   "id": "0a15b026",
   "metadata": {},
   "outputs": [],
   "source": [
    "us_holidays = holidays.US()  # this is a dict\n",
    "# the below is the same, but takes a string:\n",
    "us_holidays = holidays.country_holidays('US')  # this is a dict"
   ]
  },
  {
   "cell_type": "code",
   "execution_count": 6,
   "id": "e93a78bf",
   "metadata": {},
   "outputs": [],
   "source": [
    "nyse_holidays = holidays.NYSE()  # this is a dict\n",
    "# the below is the same, but takes a string:\n",
    "nyse_holidays = holidays.financial_holidays('NYSE')  # this is a dict"
   ]
  },
  {
   "cell_type": "code",
   "execution_count": 8,
   "id": "37e9fe87",
   "metadata": {},
   "outputs": [
    {
     "data": {
      "text/plain": [
       "True"
      ]
     },
     "execution_count": 8,
     "metadata": {},
     "output_type": "execute_result"
    }
   ],
   "source": [
    "date(2015, 1, 1) in us_holidays "
   ]
  },
  {
   "cell_type": "code",
   "execution_count": 9,
   "id": "f72ad6d1",
   "metadata": {},
   "outputs": [
    {
     "data": {
      "text/plain": [
       "False"
      ]
     },
     "execution_count": 9,
     "metadata": {},
     "output_type": "execute_result"
    }
   ],
   "source": [
    "date(2015, 1, 2) in us_holidays "
   ]
  },
  {
   "cell_type": "code",
   "execution_count": 10,
   "id": "c6863941",
   "metadata": {},
   "outputs": [
    {
     "data": {
      "text/plain": [
       "\"New Year's Day\""
      ]
     },
     "execution_count": 10,
     "metadata": {},
     "output_type": "execute_result"
    }
   ],
   "source": [
    "us_holidays.get('2014-01-01') "
   ]
  },
  {
   "cell_type": "markdown",
   "id": "fb4f94a7",
   "metadata": {},
   "source": [
    "Some holidays may be only present in parts of a country:"
   ]
  },
  {
   "cell_type": "code",
   "execution_count": 12,
   "id": "f91e01ba",
   "metadata": {},
   "outputs": [],
   "source": [
    "us_pr_holidays = holidays.country_holidays('US', subdiv='PR')"
   ]
  },
  {
   "cell_type": "code",
   "execution_count": 13,
   "id": "4551fe79",
   "metadata": {},
   "outputs": [
    {
     "data": {
      "text/plain": [
       "False"
      ]
     },
     "execution_count": 13,
     "metadata": {},
     "output_type": "execute_result"
    }
   ],
   "source": [
    "'2018-01-06' in us_holidays     # False"
   ]
  },
  {
   "cell_type": "code",
   "execution_count": 14,
   "id": "67cb131f",
   "metadata": {},
   "outputs": [
    {
     "data": {
      "text/plain": [
       "True"
      ]
     },
     "execution_count": 14,
     "metadata": {},
     "output_type": "execute_result"
    }
   ],
   "source": [
    "'2018-01-06' in us_pr_holidays  # True"
   ]
  },
  {
   "cell_type": "markdown",
   "id": "5a328cae",
   "metadata": {},
   "source": [
    "Visualizating the holidays"
   ]
  },
  {
   "cell_type": "code",
   "execution_count": 22,
   "id": "7e8aa9d2",
   "metadata": {},
   "outputs": [],
   "source": [
    "us_holidays = holidays.country_holidays('US')\n",
    "nyse_holidays = holidays.financial_holidays('NYSE')"
   ]
  },
  {
   "cell_type": "code",
   "execution_count": 23,
   "id": "5ec0e2c3",
   "metadata": {},
   "outputs": [
    {
     "name": "stdout",
     "output_type": "stream",
     "text": [
      "2014-01-01 New Year's Day\n",
      "2014-01-20 Martin Luther King Jr. Day\n",
      "2014-02-15 Susan B. Anthony Day\n",
      "2014-02-17 Washington's Birthday\n",
      "2014-03-31 César Chávez Day\n",
      "2014-05-26 Memorial Day\n",
      "2014-07-04 Independence Day\n",
      "2014-09-01 Labor Day\n",
      "2014-10-13 Columbus Day\n",
      "2014-11-11 Veterans Day\n",
      "2014-11-27 Thanksgiving\n",
      "2014-11-28 Day After Thanksgiving\n",
      "2014-12-25 Christmas Day\n"
     ]
    }
   ],
   "source": [
    "for date, name in sorted(holidays.US(subdiv='CA', years=2014).items()):\n",
    "    print(date, name)"
   ]
  },
  {
   "cell_type": "code",
   "execution_count": 24,
   "id": "24e277c1",
   "metadata": {},
   "outputs": [
    {
     "data": {
      "text/plain": [
       "set()"
      ]
     },
     "execution_count": 24,
     "metadata": {},
     "output_type": "execute_result"
    }
   ],
   "source": [
    "us_holidays.years"
   ]
  },
  {
   "cell_type": "code",
   "execution_count": null,
   "id": "8bb37989",
   "metadata": {},
   "outputs": [],
   "source": []
  }
 ],
 "metadata": {
  "kernelspec": {
   "display_name": "Python 3 (ipykernel)",
   "language": "python",
   "name": "python3"
  },
  "language_info": {
   "codemirror_mode": {
    "name": "ipython",
    "version": 3
   },
   "file_extension": ".py",
   "mimetype": "text/x-python",
   "name": "python",
   "nbconvert_exporter": "python",
   "pygments_lexer": "ipython3",
   "version": "3.7.16"
  }
 },
 "nbformat": 4,
 "nbformat_minor": 5
}
