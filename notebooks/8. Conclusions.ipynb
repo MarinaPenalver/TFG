{
 "cells": [
  {
   "cell_type": "markdown",
   "id": "cf751fa3",
   "metadata": {},
   "source": [
    "**Packages**"
   ]
  },
  {
   "cell_type": "code",
   "execution_count": 8,
   "id": "abe94aa2",
   "metadata": {},
   "outputs": [],
   "source": [
    "import pandas as pd\n",
    "import numpy as np\n",
    "from datetime import time"
   ]
  },
  {
   "cell_type": "code",
   "execution_count": 13,
   "id": "694fb8a8",
   "metadata": {},
   "outputs": [],
   "source": [
    "time = pd.DataFrame(['23:50', '00:02.705', '00:04.273', '00:02.903', '00:04.352'])"
   ]
  },
  {
   "cell_type": "code",
   "execution_count": null,
   "id": "90d5ecf5",
   "metadata": {},
   "outputs": [],
   "source": []
  }
 ],
 "metadata": {
  "kernelspec": {
   "display_name": "Python 3 (ipykernel)",
   "language": "python",
   "name": "python3"
  },
  "language_info": {
   "codemirror_mode": {
    "name": "ipython",
    "version": 3
   },
   "file_extension": ".py",
   "mimetype": "text/x-python",
   "name": "python",
   "nbconvert_exporter": "python",
   "pygments_lexer": "ipython3",
   "version": "3.7.16"
  }
 },
 "nbformat": 4,
 "nbformat_minor": 5
}
